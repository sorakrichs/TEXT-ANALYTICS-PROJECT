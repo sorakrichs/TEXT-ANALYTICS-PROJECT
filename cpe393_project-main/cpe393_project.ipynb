{
  "nbformat": 4,
  "nbformat_minor": 0,
  "metadata": {
    "accelerator": "GPU",
    "colab": {
      "name": "cpe393-project.ipynb",
      "provenance": [],
      "collapsed_sections": [],
      "toc_visible": true
    },
    "kernelspec": {
      "display_name": "Python 3",
      "name": "python3"
    },
    "language_info": {
      "name": "python"
    }
  },
  "cells": [
    {
      "cell_type": "markdown",
      "metadata": {
        "id": "PVhuhO3_mi96"
      },
      "source": [
        "# Import library "
      ]
    },
    {
      "cell_type": "code",
      "metadata": {
        "id": "28Nvxo7OASN3"
      },
      "source": [
        "import pandas as pd\n",
        "import numpy as np\n",
        "import matplotlib.pyplot as plt"
      ],
      "execution_count": null,
      "outputs": []
    },
    {
      "cell_type": "markdown",
      "metadata": {
        "id": "PVT5pXi1moFI"
      },
      "source": [
        "# Load dataset from google drive "
      ]
    },
    {
      "cell_type": "code",
      "metadata": {
        "colab": {
          "base_uri": "https://localhost:8080/"
        },
        "id": "e7bvzfivCPxK",
        "outputId": "02d36b9e-015c-4d04-89b1-dd4b1117884d"
      },
      "source": [
        "!gdown --id 1Dmb5SW8WukZz0DHirzxD0vosoSq-cBf3"
      ],
      "execution_count": null,
      "outputs": [
        {
          "name": "stdout",
          "output_type": "stream",
          "text": [
            "Downloading...\n",
            "From: https://drive.google.com/uc?id=1Dmb5SW8WukZz0DHirzxD0vosoSq-cBf3\n",
            "To: /content/763K_plus_IOS_Apps_Info.csv\n",
            "100% 859M/859M [00:06<00:00, 125MB/s] \n"
          ]
        }
      ]
    },
    {
      "cell_type": "markdown",
      "metadata": {
        "id": "E4xvwnSsnLso"
      },
      "source": [
        "# Read data"
      ]
    },
    {
      "cell_type": "code",
      "metadata": {
        "colab": {
          "base_uri": "https://localhost:8080/",
          "height": 632
        },
        "id": "J73cOzs1Cr92",
        "outputId": "9c7fc6d1-860c-4e10-96f3-ceaaeafa3794"
      },
      "source": [
        "df = pd.read_csv('763K_plus_IOS_Apps_Info.csv')\n",
        "df.head()"
      ],
      "execution_count": null,
      "outputs": [
        {
          "data": {
            "text/html": [
              "<div>\n",
              "<style scoped>\n",
              "    .dataframe tbody tr th:only-of-type {\n",
              "        vertical-align: middle;\n",
              "    }\n",
              "\n",
              "    .dataframe tbody tr th {\n",
              "        vertical-align: top;\n",
              "    }\n",
              "\n",
              "    .dataframe thead th {\n",
              "        text-align: right;\n",
              "    }\n",
              "</style>\n",
              "<table border=\"1\" class=\"dataframe\">\n",
              "  <thead>\n",
              "    <tr style=\"text-align: right;\">\n",
              "      <th></th>\n",
              "      <th>_id</th>\n",
              "      <th>IOS_App_Id</th>\n",
              "      <th>Title</th>\n",
              "      <th>Developer_Name</th>\n",
              "      <th>Developer_IOS_Id</th>\n",
              "      <th>IOS_Store_Url</th>\n",
              "      <th>Seller_Official_Website</th>\n",
              "      <th>Age_Rating</th>\n",
              "      <th>Total_Average_Rating</th>\n",
              "      <th>Total_Number_of_Ratings</th>\n",
              "      <th>Average_Rating_For_Version</th>\n",
              "      <th>Number_of_Ratings_For_Version</th>\n",
              "      <th>Original_Release_Date</th>\n",
              "      <th>Current_Version_Release_Date</th>\n",
              "      <th>Price_USD</th>\n",
              "      <th>Primary_Genre</th>\n",
              "      <th>All_Genres</th>\n",
              "      <th>Languages</th>\n",
              "      <th>Description</th>\n",
              "    </tr>\n",
              "  </thead>\n",
              "  <tbody>\n",
              "    <tr>\n",
              "      <th>0</th>\n",
              "      <td>5ddd0f935add2aa7a436dfa3</td>\n",
              "      <td>1224614786</td>\n",
              "      <td>abc - writing style cursive flashcards worksheets</td>\n",
              "      <td>Wattana Kamdee</td>\n",
              "      <td>1.202553e+09</td>\n",
              "      <td>https://apps.apple.com/us/app/abc-writing-styl...</td>\n",
              "      <td>NaN</td>\n",
              "      <td>4+</td>\n",
              "      <td>-1.0</td>\n",
              "      <td>-1.0</td>\n",
              "      <td>0.0</td>\n",
              "      <td>0</td>\n",
              "      <td>2017-04-10T23:00:59Z</td>\n",
              "      <td>2017-04-10T23:00:59Z</td>\n",
              "      <td>0.00</td>\n",
              "      <td>Games</td>\n",
              "      <td>['Games', 'Books', 'Family']</td>\n",
              "      <td>['EN']</td>\n",
              "      <td>This application helps you practice cursive sc...</td>\n",
              "    </tr>\n",
              "    <tr>\n",
              "      <th>1</th>\n",
              "      <td>5ddd0f935add2aa7a436dfa4</td>\n",
              "      <td>1111182407</td>\n",
              "      <td>abcForAll</td>\n",
              "      <td>CHEN-HUNG LEE</td>\n",
              "      <td>1.111182e+09</td>\n",
              "      <td>https://apps.apple.com/us/app/abcforall/id1111...</td>\n",
              "      <td>NaN</td>\n",
              "      <td>4+</td>\n",
              "      <td>-1.0</td>\n",
              "      <td>-1.0</td>\n",
              "      <td>0.0</td>\n",
              "      <td>0</td>\n",
              "      <td>2016-05-11T02:21:43Z</td>\n",
              "      <td>2019-05-30T07:23:27Z</td>\n",
              "      <td>6.99</td>\n",
              "      <td>Education</td>\n",
              "      <td>['Education', 'Books']</td>\n",
              "      <td>['EN']</td>\n",
              "      <td>裡面包含三個部分：電子書，我的課本和遊戲。\\n電子書\\n\\n電子書裡有許多種類，包含發音、入...</td>\n",
              "    </tr>\n",
              "    <tr>\n",
              "      <th>2</th>\n",
              "      <td>5ddd0f935add2aa7a436dfa5</td>\n",
              "      <td>1203161394</td>\n",
              "      <td>abcForAll tw</td>\n",
              "      <td>CHEN-HUNG LEE</td>\n",
              "      <td>1.111182e+09</td>\n",
              "      <td>https://apps.apple.com/us/app/abcforall-tw/id1...</td>\n",
              "      <td>NaN</td>\n",
              "      <td>4+</td>\n",
              "      <td>-1.0</td>\n",
              "      <td>-1.0</td>\n",
              "      <td>0.0</td>\n",
              "      <td>0</td>\n",
              "      <td>2017-02-09T03:50:59Z</td>\n",
              "      <td>2019-05-30T07:22:55Z</td>\n",
              "      <td>0.00</td>\n",
              "      <td>Education</td>\n",
              "      <td>['Education', 'Books']</td>\n",
              "      <td>['EN']</td>\n",
              "      <td>這是abcForAll的免費版，僅提供有限的資料庫。\\n\\n購買付費版即擁有以下完整內容：\\...</td>\n",
              "    </tr>\n",
              "    <tr>\n",
              "      <th>3</th>\n",
              "      <td>5ddd0f935add2aa7a436dfa6</td>\n",
              "      <td>1257965362</td>\n",
              "      <td>abegs books reader</td>\n",
              "      <td>Arab Bureau of Education for the Gulf States</td>\n",
              "      <td>1.168221e+09</td>\n",
              "      <td>https://apps.apple.com/us/app/abegs-books-read...</td>\n",
              "      <td>https://social.abegs.org/</td>\n",
              "      <td>4+</td>\n",
              "      <td>-1.0</td>\n",
              "      <td>-1.0</td>\n",
              "      <td>0.0</td>\n",
              "      <td>0</td>\n",
              "      <td>2017-11-21T02:06:58Z</td>\n",
              "      <td>2017-11-21T02:06:58Z</td>\n",
              "      <td>0.00</td>\n",
              "      <td>Education</td>\n",
              "      <td>['Education', 'Books']</td>\n",
              "      <td>['EN']</td>\n",
              "      <td>تطبيق اصدارات مكتب التربية العربي لدول الخليج ...</td>\n",
              "    </tr>\n",
              "    <tr>\n",
              "      <th>4</th>\n",
              "      <td>5ddd0f935add2aa7a436dfa7</td>\n",
              "      <td>1143009457</td>\n",
              "      <td>aBooks - Sách Truyện Online</td>\n",
              "      <td>Phuong Anh Do</td>\n",
              "      <td>9.585161e+08</td>\n",
              "      <td>https://apps.apple.com/us/app/abooks-s%C3%A1ch...</td>\n",
              "      <td>https://www.facebook.com/abooks.mobi</td>\n",
              "      <td>12+</td>\n",
              "      <td>4.5</td>\n",
              "      <td>202.0</td>\n",
              "      <td>4.5</td>\n",
              "      <td>118</td>\n",
              "      <td>2016-09-07T06:33:45Z</td>\n",
              "      <td>2018-01-17T21:10:42Z</td>\n",
              "      <td>0.00</td>\n",
              "      <td>Book</td>\n",
              "      <td>['Books', 'Lifestyle']</td>\n",
              "      <td>['EN', 'VI']</td>\n",
              "      <td>aBooks mang lại trải nghiệm đọc sách điện tử t...</td>\n",
              "    </tr>\n",
              "  </tbody>\n",
              "</table>\n",
              "</div>"
            ],
            "text/plain": [
              "                        _id  ...                                        Description\n",
              "0  5ddd0f935add2aa7a436dfa3  ...  This application helps you practice cursive sc...\n",
              "1  5ddd0f935add2aa7a436dfa4  ...  裡面包含三個部分：電子書，我的課本和遊戲。\\n電子書\\n\\n電子書裡有許多種類，包含發音、入...\n",
              "2  5ddd0f935add2aa7a436dfa5  ...  這是abcForAll的免費版，僅提供有限的資料庫。\\n\\n購買付費版即擁有以下完整內容：\\...\n",
              "3  5ddd0f935add2aa7a436dfa6  ...  تطبيق اصدارات مكتب التربية العربي لدول الخليج ...\n",
              "4  5ddd0f935add2aa7a436dfa7  ...  aBooks mang lại trải nghiệm đọc sách điện tử t...\n",
              "\n",
              "[5 rows x 19 columns]"
            ]
          },
          "execution_count": 3,
          "metadata": {},
          "output_type": "execute_result"
        }
      ]
    },
    {
      "cell_type": "code",
      "metadata": {
        "colab": {
          "base_uri": "https://localhost:8080/",
          "height": 105
        },
        "id": "GceH7Qxxrp3K",
        "outputId": "1f4b1e81-ed3b-4341-89e1-d55f690ed937"
      },
      "source": [
        "# Explore data\n",
        "df.Description.sample(1).values[0]"
      ],
      "execution_count": null,
      "outputs": [
        {
          "data": {
            "application/vnd.google.colaboratory.intrinsic+json": {
              "type": "string"
            },
            "text/plain": [
              "\"Concept store créé en 2008, Terrasse en ville et Beaulieu en Ville déclinent un art de vivre urbain au sein d'un même espace où se rencontrent l'immobilier, le mobilier et la création artistique sous toutes ses formes : Arts Plastiques, décoratifs et visuels.\\n\\nL'immobilier, développé autour de trois thèmes, la terrasse, le loft et le Beaulieu, est aujourd'hui réputé pour sa sélection de biens rares. \\n\\nLa marque développe en parallèle une activité éditoriale en publiant son prozine urbain gratuit tiré à 20 000 ex. et un site d’informations épicuriennes terrasse-en-ville.com/lemag\""
            ]
          },
          "execution_count": 4,
          "metadata": {},
          "output_type": "execute_result"
        }
      ]
    },
    {
      "cell_type": "code",
      "metadata": {
        "colab": {
          "base_uri": "https://localhost:8080/"
        },
        "id": "kVKa3HVuC5Wn",
        "outputId": "fde384fa-37f7-480e-99ab-427a11971723"
      },
      "source": [
        "df.columns"
      ],
      "execution_count": null,
      "outputs": [
        {
          "data": {
            "text/plain": [
              "Index(['_id', 'IOS_App_Id', 'Title', 'Developer_Name', 'Developer_IOS_Id',\n",
              "       'IOS_Store_Url', 'Seller_Official_Website', 'Age_Rating',\n",
              "       'Total_Average_Rating', 'Total_Number_of_Ratings',\n",
              "       'Average_Rating_For_Version', 'Number_of_Ratings_For_Version',\n",
              "       'Original_Release_Date', 'Current_Version_Release_Date', 'Price_USD',\n",
              "       'Primary_Genre', 'All_Genres', 'Languages', 'Description'],\n",
              "      dtype='object')"
            ]
          },
          "execution_count": 5,
          "metadata": {},
          "output_type": "execute_result"
        }
      ]
    },
    {
      "cell_type": "markdown",
      "metadata": {
        "id": "QwG8UJYjmzRA"
      },
      "source": [
        "# Use data Columns\n",
        "1. 'Title' : ชื่อเเอป , \n",
        "2. 'Developer_Name' : ชื่อคนสร้าง,\n",
        "3. 'IOS_Store_Url' : ลิ้งค์สำหรับการโหลดเเอป ,  \n",
        "4. 'Age_Rating',\n",
        "5. 'Total_Average_Rating', \n",
        "6. 'Total_Number_of_Ratings',\n",
        "7. 'Average_Rating_For_Version', \n",
        "8. 'Number_of_Ratings_For_Version',\n",
        "9. 'Price_USD' : ราคาของ app ,\n",
        "10. 'Primary_Genre' : ประเภทหลักของ app, \n",
        "11. 'All_Genres' : ประเภททั้งหมดเกี่ยวกับ app , \n",
        "12. 'Languages' : ภาษาของ app ,\n",
        "13. 'Description' : คำอธิบายของ app เพื่อใช้ในการหา keyword "
      ]
    },
    {
      "cell_type": "code",
      "metadata": {
        "colab": {
          "base_uri": "https://localhost:8080/",
          "height": 468
        },
        "id": "qRkUEGOFJAZ4",
        "outputId": "e9795c01-d143-43c9-faa3-59d62872bd17"
      },
      "source": [
        "ios_df = df[['Title' , 'Developer_Name' ,'IOS_Store_Url' , 'Age_Rating', 'Total_Average_Rating',  'Total_Number_of_Ratings','Average_Rating_For_Version', 'Number_of_Ratings_For_Version','Price_USD' ,'Primary_Genre' , 'All_Genres' , 'Languages' ,'Description']].copy()\n",
        "ios_df.head(3)"
      ],
      "execution_count": null,
      "outputs": [
        {
          "data": {
            "text/html": [
              "<div>\n",
              "<style scoped>\n",
              "    .dataframe tbody tr th:only-of-type {\n",
              "        vertical-align: middle;\n",
              "    }\n",
              "\n",
              "    .dataframe tbody tr th {\n",
              "        vertical-align: top;\n",
              "    }\n",
              "\n",
              "    .dataframe thead th {\n",
              "        text-align: right;\n",
              "    }\n",
              "</style>\n",
              "<table border=\"1\" class=\"dataframe\">\n",
              "  <thead>\n",
              "    <tr style=\"text-align: right;\">\n",
              "      <th></th>\n",
              "      <th>Title</th>\n",
              "      <th>Developer_Name</th>\n",
              "      <th>IOS_Store_Url</th>\n",
              "      <th>Age_Rating</th>\n",
              "      <th>Total_Average_Rating</th>\n",
              "      <th>Total_Number_of_Ratings</th>\n",
              "      <th>Average_Rating_For_Version</th>\n",
              "      <th>Number_of_Ratings_For_Version</th>\n",
              "      <th>Price_USD</th>\n",
              "      <th>Primary_Genre</th>\n",
              "      <th>All_Genres</th>\n",
              "      <th>Languages</th>\n",
              "      <th>Description</th>\n",
              "    </tr>\n",
              "  </thead>\n",
              "  <tbody>\n",
              "    <tr>\n",
              "      <th>0</th>\n",
              "      <td>abc - writing style cursive flashcards worksheets</td>\n",
              "      <td>Wattana Kamdee</td>\n",
              "      <td>https://apps.apple.com/us/app/abc-writing-styl...</td>\n",
              "      <td>4+</td>\n",
              "      <td>-1.0</td>\n",
              "      <td>-1.0</td>\n",
              "      <td>0.0</td>\n",
              "      <td>0</td>\n",
              "      <td>0.00</td>\n",
              "      <td>Games</td>\n",
              "      <td>['Games', 'Books', 'Family']</td>\n",
              "      <td>['EN']</td>\n",
              "      <td>This application helps you practice cursive sc...</td>\n",
              "    </tr>\n",
              "    <tr>\n",
              "      <th>1</th>\n",
              "      <td>abcForAll</td>\n",
              "      <td>CHEN-HUNG LEE</td>\n",
              "      <td>https://apps.apple.com/us/app/abcforall/id1111...</td>\n",
              "      <td>4+</td>\n",
              "      <td>-1.0</td>\n",
              "      <td>-1.0</td>\n",
              "      <td>0.0</td>\n",
              "      <td>0</td>\n",
              "      <td>6.99</td>\n",
              "      <td>Education</td>\n",
              "      <td>['Education', 'Books']</td>\n",
              "      <td>['EN']</td>\n",
              "      <td>裡面包含三個部分：電子書，我的課本和遊戲。\\n電子書\\n\\n電子書裡有許多種類，包含發音、入...</td>\n",
              "    </tr>\n",
              "    <tr>\n",
              "      <th>2</th>\n",
              "      <td>abcForAll tw</td>\n",
              "      <td>CHEN-HUNG LEE</td>\n",
              "      <td>https://apps.apple.com/us/app/abcforall-tw/id1...</td>\n",
              "      <td>4+</td>\n",
              "      <td>-1.0</td>\n",
              "      <td>-1.0</td>\n",
              "      <td>0.0</td>\n",
              "      <td>0</td>\n",
              "      <td>0.00</td>\n",
              "      <td>Education</td>\n",
              "      <td>['Education', 'Books']</td>\n",
              "      <td>['EN']</td>\n",
              "      <td>這是abcForAll的免費版，僅提供有限的資料庫。\\n\\n購買付費版即擁有以下完整內容：\\...</td>\n",
              "    </tr>\n",
              "  </tbody>\n",
              "</table>\n",
              "</div>"
            ],
            "text/plain": [
              "                                               Title  ...                                        Description\n",
              "0  abc - writing style cursive flashcards worksheets  ...  This application helps you practice cursive sc...\n",
              "1                                          abcForAll  ...  裡面包含三個部分：電子書，我的課本和遊戲。\\n電子書\\n\\n電子書裡有許多種類，包含發音、入...\n",
              "2                                       abcForAll tw  ...  這是abcForAll的免費版，僅提供有限的資料庫。\\n\\n購買付費版即擁有以下完整內容：\\...\n",
              "\n",
              "[3 rows x 13 columns]"
            ]
          },
          "execution_count": 6,
          "metadata": {},
          "output_type": "execute_result"
        }
      ]
    },
    {
      "cell_type": "code",
      "metadata": {
        "colab": {
          "base_uri": "https://localhost:8080/"
        },
        "id": "5L5F6hSWJSfA",
        "outputId": "82f40192-b95c-4004-e443-47a74fd244db"
      },
      "source": [
        "# Number of application\n",
        "ios_df.index.size"
      ],
      "execution_count": null,
      "outputs": [
        {
          "data": {
            "text/plain": [
              "763831"
            ]
          },
          "execution_count": 7,
          "metadata": {},
          "output_type": "execute_result"
        }
      ]
    },
    {
      "cell_type": "markdown",
      "metadata": {
        "id": "7Kt8K87-nUUI"
      },
      "source": [
        "# Data preparation"
      ]
    },
    {
      "cell_type": "markdown",
      "metadata": {
        "id": "wMbqFYuoLsMj"
      },
      "source": [
        "## drop row on null value"
      ]
    },
    {
      "cell_type": "code",
      "metadata": {
        "id": "kaIJumAZK1ba"
      },
      "source": [
        "ios_df = ios_df.dropna()"
      ],
      "execution_count": null,
      "outputs": []
    },
    {
      "cell_type": "markdown",
      "metadata": {
        "id": "RcrK1RlIMDFx"
      },
      "source": [
        "### set a new index"
      ]
    },
    {
      "cell_type": "code",
      "metadata": {
        "colab": {
          "base_uri": "https://localhost:8080/"
        },
        "id": "VkG3lUGHK2KX",
        "outputId": "a07a472a-052f-49c6-d2fe-099f4c4c8a75"
      },
      "source": [
        "ios_df.index = list(range(0, ios_df.index.size))\n",
        "ios_df.index.size"
      ],
      "execution_count": null,
      "outputs": [
        {
          "data": {
            "text/plain": [
              "724751"
            ]
          },
          "execution_count": 9,
          "metadata": {},
          "output_type": "execute_result"
        }
      ]
    },
    {
      "cell_type": "code",
      "metadata": {
        "colab": {
          "base_uri": "https://localhost:8080/"
        },
        "id": "jZTgoNI3siPe",
        "outputId": "c694ac06-53df-4121-da2e-5ce996f3cacc"
      },
      "source": [
        "# remove non EN\n",
        "import nltk\n",
        "nltk.download('words')\n",
        "words = set(nltk.corpus.words.words())"
      ],
      "execution_count": null,
      "outputs": [
        {
          "name": "stdout",
          "output_type": "stream",
          "text": [
            "[nltk_data] Downloading package words to /root/nltk_data...\n",
            "[nltk_data]   Unzipping corpora/words.zip.\n"
          ]
        }
      ]
    },
    {
      "cell_type": "markdown",
      "metadata": {
        "id": "gOMNc4i8jRAD"
      },
      "source": [
        "## remove non english language "
      ]
    },
    {
      "cell_type": "code",
      "metadata": {
        "id": "nJbYXKwpsx2a"
      },
      "source": [
        "def remove_nonEN(text):\n",
        "  return \" \".join(w for w in nltk.wordpunct_tokenize(text) if w.lower() in words or not w.isalpha())"
      ],
      "execution_count": null,
      "outputs": []
    },
    {
      "cell_type": "code",
      "metadata": {
        "id": "kQzdnhOCtLFf"
      },
      "source": [
        "ios_df['Description_Clean'] = ios_df['Description'].apply(remove_nonEN)"
      ],
      "execution_count": null,
      "outputs": []
    },
    {
      "cell_type": "code",
      "metadata": {
        "colab": {
          "base_uri": "https://localhost:8080/",
          "height": 174
        },
        "id": "s8yc48CFuJFh",
        "outputId": "3aaa2bb5-2d12-4029-bde1-664a3d3ff890"
      },
      "source": [
        "ios_df['Description_Clean'][-10:].values[0]"
      ],
      "execution_count": null,
      "outputs": [
        {
          "data": {
            "application/vnd.google.colaboratory.intrinsic+json": {
              "type": "string"
            },
            "text/plain": [
              "'\" It \\' s an , creative game with some lovely aesthetics and . If you \\' re anything like me , it \\' probably steal your soul .\" - \" of the Week \" - \" Game of the Month \" - . -------- Fast paced fantasy tower defense ... from the of Toy and \\' s Gate : Dark Alliance ! Defend your kingdom from troll , with quick - to - learn but difficult - to - master . N \\' fast - paced arcade action with quick - thinking strategy . The tower defense genre is for 21st Century mobile gaming with nail - biting where your fate on a razor \\' s edge . No sitting and waiting for the enemy , they \\' re already at your door - it \\' s up to you to stop them ! N \\' beautifully hand - painted and playful , light - hearted from the Age of Fantasy . Play across 11 and 65 unique , the Lonely Forest , Fertile , Snowy Forest , Underworld , Badlands , and the North . -------- WHAT PEOPLE ARE SAYING \" Before N \\' I could see only the visible light spectrum . Now I can see both ultraviolet and infrared ! It \\' s amazing , you should try it !\" \" When my neighborhood , I knew to build Scout immediately ... Thank you N \\' for saving my family \\' s life . The next - door only had , and perished tragically .\" \" My son was a real problem in school . Since I bought him N \\' , his love him and he \\' s straight A \\' s !\" \" What other reason is there to buy an other than to play N \\' ?\" -------- * 65 ! * 4 Game ! ( Story Campaign , Challenge , Open Mode , and Endless Journey ) * 11 different across completely different ! * 10 Enemy with of of animation ! * 10 Enemy with of of animation ! * 3 of Difficulty ! * Unique , Hand Painted ! * loot generation provide countless of ! * & ! * Support ! * Outrageous Special - Powder , Mine , and Poison Gas ! -------- EMBER ENTERTAINMENT Visit us at Ember - Entertainment . Like us at . / Follow us at twitter . / Ember_Dev'"
            ]
          },
          "execution_count": 13,
          "metadata": {},
          "output_type": "execute_result"
        }
      ]
    },
    {
      "cell_type": "markdown",
      "metadata": {
        "id": "2OO5I6v5nuGH"
      },
      "source": [
        "## lower case "
      ]
    },
    {
      "cell_type": "code",
      "metadata": {
        "id": "b29K1zijvHvE"
      },
      "source": [
        "# lowercase\n",
        "ios_df['Description_Clean'] = ios_df['Description_Clean'].apply(str.lower)"
      ],
      "execution_count": null,
      "outputs": []
    },
    {
      "cell_type": "code",
      "metadata": {
        "colab": {
          "base_uri": "https://localhost:8080/",
          "height": 174
        },
        "id": "nYNkUkyuvWRA",
        "outputId": "59c6293a-e731-4b63-b7e6-47aa2fab7105"
      },
      "source": [
        "ios_df['Description_Clean'][-10:].values[0]"
      ],
      "execution_count": null,
      "outputs": [
        {
          "data": {
            "application/vnd.google.colaboratory.intrinsic+json": {
              "type": "string"
            },
            "text/plain": [
              "'\" it \\' s an , creative game with some lovely aesthetics and . if you \\' re anything like me , it \\' probably steal your soul .\" - \" of the week \" - \" game of the month \" - . -------- fast paced fantasy tower defense ... from the of toy and \\' s gate : dark alliance ! defend your kingdom from troll , with quick - to - learn but difficult - to - master . n \\' fast - paced arcade action with quick - thinking strategy . the tower defense genre is for 21st century mobile gaming with nail - biting where your fate on a razor \\' s edge . no sitting and waiting for the enemy , they \\' re already at your door - it \\' s up to you to stop them ! n \\' beautifully hand - painted and playful , light - hearted from the age of fantasy . play across 11 and 65 unique , the lonely forest , fertile , snowy forest , underworld , badlands , and the north . -------- what people are saying \" before n \\' i could see only the visible light spectrum . now i can see both ultraviolet and infrared ! it \\' s amazing , you should try it !\" \" when my neighborhood , i knew to build scout immediately ... thank you n \\' for saving my family \\' s life . the next - door only had , and perished tragically .\" \" my son was a real problem in school . since i bought him n \\' , his love him and he \\' s straight a \\' s !\" \" what other reason is there to buy an other than to play n \\' ?\" -------- * 65 ! * 4 game ! ( story campaign , challenge , open mode , and endless journey ) * 11 different across completely different ! * 10 enemy with of of animation ! * 10 enemy with of of animation ! * 3 of difficulty ! * unique , hand painted ! * loot generation provide countless of ! * & ! * support ! * outrageous special - powder , mine , and poison gas ! -------- ember entertainment visit us at ember - entertainment . like us at . / follow us at twitter . / ember_dev'"
            ]
          },
          "execution_count": 15,
          "metadata": {},
          "output_type": "execute_result"
        }
      ]
    },
    {
      "cell_type": "markdown",
      "metadata": {
        "id": "LD_oArM7n0TW"
      },
      "source": [
        "## remove non-alphanumeric"
      ]
    },
    {
      "cell_type": "code",
      "metadata": {
        "id": "7NXibNR9vrVy"
      },
      "source": [
        "# remove non-alphanumeric\n",
        "import re\n",
        "\n",
        "def replace_symbols(text):\n",
        "    return re.compile('[\\W+\\s+]').sub(' ', text)"
      ],
      "execution_count": null,
      "outputs": []
    },
    {
      "cell_type": "code",
      "metadata": {
        "id": "QbXp1Qc6wczP"
      },
      "source": [
        "ios_df['Description_Clean'] = ios_df['Description_Clean'].apply(replace_symbols)"
      ],
      "execution_count": null,
      "outputs": []
    },
    {
      "cell_type": "code",
      "metadata": {
        "colab": {
          "base_uri": "https://localhost:8080/",
          "height": 174
        },
        "id": "Fusu5pivwrPR",
        "outputId": "835f15c4-4867-4e0d-8664-d89836ba5f40"
      },
      "source": [
        "ios_df['Description_Clean'][-10:].values[0]"
      ],
      "execution_count": null,
      "outputs": [
        {
          "data": {
            "application/vnd.google.colaboratory.intrinsic+json": {
              "type": "string"
            },
            "text/plain": [
              "'  it   s an   creative game with some lovely aesthetics and   if you   re anything like me   it   probably steal your soul        of the week       game of the month                fast paced fantasy tower defense     from the of toy and   s gate   dark alliance   defend your kingdom from troll   with quick   to   learn but difficult   to   master   n   fast   paced arcade action with quick   thinking strategy   the tower defense genre is for 21st century mobile gaming with nail   biting where your fate on a razor   s edge   no sitting and waiting for the enemy   they   re already at your door   it   s up to you to stop them   n   beautifully hand   painted and playful   light   hearted from the age of fantasy   play across 11 and 65 unique   the lonely forest   fertile   snowy forest   underworld   badlands   and the north            what people are saying   before n   i could see only the visible light spectrum   now i can see both ultraviolet and infrared   it   s amazing   you should try it      when my neighborhood   i knew to build scout immediately     thank you n   for saving my family   s life   the next   door only had   and perished tragically      my son was a real problem in school   since i bought him n     his love him and he   s straight a   s      what other reason is there to buy an other than to play n                 65     4 game     story campaign   challenge   open mode   and endless journey     11 different across completely different     10 enemy with of of animation     10 enemy with of of animation     3 of difficulty     unique   hand painted     loot generation provide countless of           support     outrageous special   powder   mine   and poison gas            ember entertainment visit us at ember   entertainment   like us at     follow us at twitter     ember_dev'"
            ]
          },
          "execution_count": 18,
          "metadata": {},
          "output_type": "execute_result"
        }
      ]
    },
    {
      "cell_type": "markdown",
      "metadata": {
        "id": "9B0EK1I3rEdd"
      },
      "source": [
        "## remove more space"
      ]
    },
    {
      "cell_type": "code",
      "metadata": {
        "id": "IXmicrhO0hXm"
      },
      "source": [
        "def remove_morespace(text):\n",
        "    return re.compile(' +').sub(' ', text)"
      ],
      "execution_count": null,
      "outputs": []
    },
    {
      "cell_type": "code",
      "metadata": {
        "id": "7tqeGYXf0lMr"
      },
      "source": [
        "ios_df['Description_Clean'] = ios_df['Description_Clean'].apply(remove_morespace)"
      ],
      "execution_count": null,
      "outputs": []
    },
    {
      "cell_type": "code",
      "metadata": {
        "colab": {
          "base_uri": "https://localhost:8080/",
          "height": 174
        },
        "id": "oXEriF_A0pWs",
        "outputId": "20411a8d-015d-436e-fa71-79a495725855"
      },
      "source": [
        "ios_df['Description_Clean'][-10:].values[0]"
      ],
      "execution_count": null,
      "outputs": [
        {
          "data": {
            "application/vnd.google.colaboratory.intrinsic+json": {
              "type": "string"
            },
            "text/plain": [
              "' it s an creative game with some lovely aesthetics and if you re anything like me it probably steal your soul of the week game of the month fast paced fantasy tower defense from the of toy and s gate dark alliance defend your kingdom from troll with quick to learn but difficult to master n fast paced arcade action with quick thinking strategy the tower defense genre is for 21st century mobile gaming with nail biting where your fate on a razor s edge no sitting and waiting for the enemy they re already at your door it s up to you to stop them n beautifully hand painted and playful light hearted from the age of fantasy play across 11 and 65 unique the lonely forest fertile snowy forest underworld badlands and the north what people are saying before n i could see only the visible light spectrum now i can see both ultraviolet and infrared it s amazing you should try it when my neighborhood i knew to build scout immediately thank you n for saving my family s life the next door only had and perished tragically my son was a real problem in school since i bought him n his love him and he s straight a s what other reason is there to buy an other than to play n 65 4 game story campaign challenge open mode and endless journey 11 different across completely different 10 enemy with of of animation 10 enemy with of of animation 3 of difficulty unique hand painted loot generation provide countless of support outrageous special powder mine and poison gas ember entertainment visit us at ember entertainment like us at follow us at twitter ember_dev'"
            ]
          },
          "execution_count": 21,
          "metadata": {},
          "output_type": "execute_result"
        }
      ]
    },
    {
      "cell_type": "markdown",
      "metadata": {
        "id": "gPpoDpC6n4PX"
      },
      "source": [
        "## remove stopword"
      ]
    },
    {
      "cell_type": "code",
      "metadata": {
        "colab": {
          "base_uri": "https://localhost:8080/"
        },
        "id": "Kp0LDBxuRrH_",
        "outputId": "e13e1db5-7110-4e7e-8848-1c0bc6d61aaf"
      },
      "source": [
        "# remove stopword\n",
        "from nltk.corpus import stopwords\n",
        "nltk.download('stopwords')"
      ],
      "execution_count": null,
      "outputs": [
        {
          "name": "stdout",
          "output_type": "stream",
          "text": [
            "[nltk_data] Downloading package stopwords to /root/nltk_data...\n",
            "[nltk_data]   Unzipping corpora/stopwords.zip.\n"
          ]
        },
        {
          "data": {
            "text/plain": [
              "True"
            ]
          },
          "execution_count": 22,
          "metadata": {},
          "output_type": "execute_result"
        }
      ]
    },
    {
      "cell_type": "code",
      "metadata": {
        "id": "ogh2Lr1BSoG0"
      },
      "source": [
        "stop_words = set(stopwords.words('english'))\n",
        "\n",
        "def remove_stopwords(text):\n",
        "    return ' '.join(word for word in text.split() if word not in stop_words) "
      ],
      "execution_count": null,
      "outputs": []
    },
    {
      "cell_type": "code",
      "metadata": {
        "id": "BAnIO4oUYLz2"
      },
      "source": [
        "ios_df['Description_Clean'] = ios_df['Description_Clean'].apply(remove_stopwords)"
      ],
      "execution_count": null,
      "outputs": []
    },
    {
      "cell_type": "code",
      "metadata": {
        "colab": {
          "base_uri": "https://localhost:8080/",
          "height": 174
        },
        "id": "G8gjkwZ2YYUf",
        "outputId": "5356a1da-da8a-4819-8308-f027bb8c01fa"
      },
      "source": [
        "ios_df['Description_Clean'][-10:].values[0]"
      ],
      "execution_count": null,
      "outputs": [
        {
          "data": {
            "application/vnd.google.colaboratory.intrinsic+json": {
              "type": "string"
            },
            "text/plain": [
              "'creative game lovely aesthetics anything like probably steal soul week game month fast paced fantasy tower defense toy gate dark alliance defend kingdom troll quick learn difficult master n fast paced arcade action quick thinking strategy tower defense genre 21st century mobile gaming nail biting fate razor edge sitting waiting enemy already door stop n beautifully hand painted playful light hearted age fantasy play across 11 65 unique lonely forest fertile snowy forest underworld badlands north people saying n could see visible light spectrum see ultraviolet infrared amazing try neighborhood knew build scout immediately thank n saving family life next door perished tragically son real problem school since bought n love straight reason buy play n 65 4 game story campaign challenge open mode endless journey 11 different across completely different 10 enemy animation 10 enemy animation 3 difficulty unique hand painted loot generation provide countless support outrageous special powder mine poison gas ember entertainment visit us ember entertainment like us follow us twitter ember_dev'"
            ]
          },
          "execution_count": 25,
          "metadata": {},
          "output_type": "execute_result"
        }
      ]
    },
    {
      "cell_type": "markdown",
      "metadata": {
        "id": "7xKb4QLon66w"
      },
      "source": [
        "## lemmatization\n",
        "\n"
      ]
    },
    {
      "cell_type": "code",
      "metadata": {
        "colab": {
          "base_uri": "https://localhost:8080/"
        },
        "id": "j790bDNObGji",
        "outputId": "a22427e1-daa9-4cb6-b43a-c541a7b1187d"
      },
      "source": [
        "# lemmatization\n",
        "## (Not run again) \n",
        "nltk.download('wordnet')\n",
        "wnl = nltk.WordNetLemmatizer()"
      ],
      "execution_count": null,
      "outputs": [
        {
          "name": "stdout",
          "output_type": "stream",
          "text": [
            "[nltk_data] Downloading package wordnet to /root/nltk_data...\n",
            "[nltk_data]   Unzipping corpora/wordnet.zip.\n"
          ]
        }
      ]
    },
    {
      "cell_type": "code",
      "metadata": {
        "id": "9mfH8MVlkLV7"
      },
      "source": [
        "def lenmatization(text):\n",
        "    return ' '.join(wnl.lemmatize(word) for word in text.split())"
      ],
      "execution_count": null,
      "outputs": []
    },
    {
      "cell_type": "code",
      "metadata": {
        "id": "bV_AAXQA1giT"
      },
      "source": [
        "ios_df['Description_Clean'] = ios_df['Description_Clean'].apply(lenmatization)"
      ],
      "execution_count": null,
      "outputs": []
    },
    {
      "cell_type": "code",
      "metadata": {
        "colab": {
          "base_uri": "https://localhost:8080/",
          "height": 174
        },
        "id": "ifyACw8X1ikF",
        "outputId": "cab15bcd-0be2-4b97-c4e6-a2b020ee6008"
      },
      "source": [
        "ios_df['Description_Clean'][-10:].values[0]"
      ],
      "execution_count": null,
      "outputs": [
        {
          "data": {
            "application/vnd.google.colaboratory.intrinsic+json": {
              "type": "string"
            },
            "text/plain": [
              "'creative game lovely aesthetic anything like probably steal soul week game month fast paced fantasy tower defense toy gate dark alliance defend kingdom troll quick learn difficult master n fast paced arcade action quick thinking strategy tower defense genre 21st century mobile gaming nail biting fate razor edge sitting waiting enemy already door stop n beautifully hand painted playful light hearted age fantasy play across 11 65 unique lonely forest fertile snowy forest underworld badlands north people saying n could see visible light spectrum see ultraviolet infrared amazing try neighborhood knew build scout immediately thank n saving family life next door perished tragically son real problem school since bought n love straight reason buy play n 65 4 game story campaign challenge open mode endless journey 11 different across completely different 10 enemy animation 10 enemy animation 3 difficulty unique hand painted loot generation provide countless support outrageous special powder mine poison gas ember entertainment visit u ember entertainment like u follow u twitter ember_dev'"
            ]
          },
          "execution_count": 29,
          "metadata": {},
          "output_type": "execute_result"
        }
      ]
    },
    {
      "cell_type": "code",
      "metadata": {
        "colab": {
          "base_uri": "https://localhost:8080/",
          "height": 54
        },
        "id": "UTcmOxRB8F48",
        "outputId": "dfe56345-7a81-42e7-cb31-01160a281a9e"
      },
      "source": [
        "ios_df['Description_Clean'][0]"
      ],
      "execution_count": null,
      "outputs": [
        {
          "data": {
            "application/vnd.google.colaboratory.intrinsic+json": {
              "type": "string"
            },
            "text/plain": [
              "'application practice cursive write alphabet z cursive script meaningful write consecutively separately 2 7 letter shown way trace within cute want learn basic'"
            ]
          },
          "execution_count": 30,
          "metadata": {},
          "output_type": "execute_result"
        }
      ]
    },
    {
      "cell_type": "markdown",
      "metadata": {
        "id": "ByDex48An913"
      },
      "source": [
        "## tokenization "
      ]
    },
    {
      "cell_type": "code",
      "metadata": {
        "colab": {
          "base_uri": "https://localhost:8080/"
        },
        "id": "zhQp79le92HB",
        "outputId": "7e1aaab4-8c7a-49b2-9338-3ad9edc99ee3"
      },
      "source": [
        "# tokenize text\n",
        "nltk.download('punkt')\n",
        "\n",
        "def tokenize(text):\n",
        "  return nltk.word_tokenize(text)\n",
        "\n",
        "ios_df['Description_Token'] = ios_df['Description_Clean'].apply(tokenize)"
      ],
      "execution_count": null,
      "outputs": [
        {
          "name": "stdout",
          "output_type": "stream",
          "text": [
            "[nltk_data] Downloading package punkt to /root/nltk_data...\n",
            "[nltk_data]   Unzipping tokenizers/punkt.zip.\n"
          ]
        }
      ]
    },
    {
      "cell_type": "code",
      "metadata": {
        "colab": {
          "base_uri": "https://localhost:8080/",
          "height": 468
        },
        "id": "7g8KP1k8_Cjr",
        "outputId": "501c7340-4816-479e-f234-0fdcfccd882b"
      },
      "source": [
        "ios_df[:3]"
      ],
      "execution_count": null,
      "outputs": [
        {
          "data": {
            "text/html": [
              "<div>\n",
              "<style scoped>\n",
              "    .dataframe tbody tr th:only-of-type {\n",
              "        vertical-align: middle;\n",
              "    }\n",
              "\n",
              "    .dataframe tbody tr th {\n",
              "        vertical-align: top;\n",
              "    }\n",
              "\n",
              "    .dataframe thead th {\n",
              "        text-align: right;\n",
              "    }\n",
              "</style>\n",
              "<table border=\"1\" class=\"dataframe\">\n",
              "  <thead>\n",
              "    <tr style=\"text-align: right;\">\n",
              "      <th></th>\n",
              "      <th>Title</th>\n",
              "      <th>Developer_Name</th>\n",
              "      <th>IOS_Store_Url</th>\n",
              "      <th>Age_Rating</th>\n",
              "      <th>Total_Average_Rating</th>\n",
              "      <th>Total_Number_of_Ratings</th>\n",
              "      <th>Average_Rating_For_Version</th>\n",
              "      <th>Number_of_Ratings_For_Version</th>\n",
              "      <th>Price_USD</th>\n",
              "      <th>Primary_Genre</th>\n",
              "      <th>All_Genres</th>\n",
              "      <th>Languages</th>\n",
              "      <th>Description</th>\n",
              "      <th>Description_Clean</th>\n",
              "      <th>Description_Token</th>\n",
              "    </tr>\n",
              "  </thead>\n",
              "  <tbody>\n",
              "    <tr>\n",
              "      <th>0</th>\n",
              "      <td>abc - writing style cursive flashcards worksheets</td>\n",
              "      <td>Wattana Kamdee</td>\n",
              "      <td>https://apps.apple.com/us/app/abc-writing-styl...</td>\n",
              "      <td>4+</td>\n",
              "      <td>-1.0</td>\n",
              "      <td>-1.0</td>\n",
              "      <td>0.0</td>\n",
              "      <td>0</td>\n",
              "      <td>0.00</td>\n",
              "      <td>Games</td>\n",
              "      <td>['Games', 'Books', 'Family']</td>\n",
              "      <td>['EN']</td>\n",
              "      <td>This application helps you practice cursive sc...</td>\n",
              "      <td>application practice cursive write alphabet z ...</td>\n",
              "      <td>[application, practice, cursive, write, alphab...</td>\n",
              "    </tr>\n",
              "    <tr>\n",
              "      <th>1</th>\n",
              "      <td>abcForAll</td>\n",
              "      <td>CHEN-HUNG LEE</td>\n",
              "      <td>https://apps.apple.com/us/app/abcforall/id1111...</td>\n",
              "      <td>4+</td>\n",
              "      <td>-1.0</td>\n",
              "      <td>-1.0</td>\n",
              "      <td>0.0</td>\n",
              "      <td>0</td>\n",
              "      <td>6.99</td>\n",
              "      <td>Education</td>\n",
              "      <td>['Education', 'Books']</td>\n",
              "      <td>['EN']</td>\n",
              "      <td>裡面包含三個部分：電子書，我的課本和遊戲。\\n電子書\\n\\n電子書裡有許多種類，包含發音、入...</td>\n",
              "      <td></td>\n",
              "      <td>[]</td>\n",
              "    </tr>\n",
              "    <tr>\n",
              "      <th>2</th>\n",
              "      <td>abcForAll tw</td>\n",
              "      <td>CHEN-HUNG LEE</td>\n",
              "      <td>https://apps.apple.com/us/app/abcforall-tw/id1...</td>\n",
              "      <td>4+</td>\n",
              "      <td>-1.0</td>\n",
              "      <td>-1.0</td>\n",
              "      <td>0.0</td>\n",
              "      <td>0</td>\n",
              "      <td>0.00</td>\n",
              "      <td>Education</td>\n",
              "      <td>['Education', 'Books']</td>\n",
              "      <td>['EN']</td>\n",
              "      <td>這是abcForAll的免費版，僅提供有限的資料庫。\\n\\n購買付費版即擁有以下完整內容：\\...</td>\n",
              "      <td></td>\n",
              "      <td>[]</td>\n",
              "    </tr>\n",
              "  </tbody>\n",
              "</table>\n",
              "</div>"
            ],
            "text/plain": [
              "                                               Title  ...                                  Description_Token\n",
              "0  abc - writing style cursive flashcards worksheets  ...  [application, practice, cursive, write, alphab...\n",
              "1                                          abcForAll  ...                                                 []\n",
              "2                                       abcForAll tw  ...                                                 []\n",
              "\n",
              "[3 rows x 15 columns]"
            ]
          },
          "execution_count": 32,
          "metadata": {},
          "output_type": "execute_result"
        }
      ]
    },
    {
      "cell_type": "code",
      "metadata": {
        "colab": {
          "base_uri": "https://localhost:8080/"
        },
        "id": "sMs5abhx7qo9",
        "outputId": "de1553c6-5012-4776-9d3b-e66ed0402940"
      },
      "source": [
        "ios_df['Description_Token'][0] "
      ],
      "execution_count": null,
      "outputs": [
        {
          "data": {
            "text/plain": [
              "['application',\n",
              " 'practice',\n",
              " 'cursive',\n",
              " 'write',\n",
              " 'alphabet',\n",
              " 'z',\n",
              " 'cursive',\n",
              " 'script',\n",
              " 'meaningful',\n",
              " 'write',\n",
              " 'consecutively',\n",
              " 'separately',\n",
              " '2',\n",
              " '7',\n",
              " 'letter',\n",
              " 'shown',\n",
              " 'way',\n",
              " 'trace',\n",
              " 'within',\n",
              " 'cute',\n",
              " 'want',\n",
              " 'learn',\n",
              " 'basic']"
            ]
          },
          "execution_count": 33,
          "metadata": {},
          "output_type": "execute_result"
        }
      ]
    },
    {
      "cell_type": "markdown",
      "metadata": {
        "id": "D_QsAjJXoGPR"
      },
      "source": [
        "## remove row with word counts < min_word_counts"
      ]
    },
    {
      "cell_type": "code",
      "metadata": {
        "id": "HUuCqfZ82goS"
      },
      "source": [
        "# remove row with word counts < min_word_counts\n",
        "min_word_counts = 2\n",
        "\n",
        "ios_df['Word_Counts'] = ios_df['Description_Token'].apply(len)"
      ],
      "execution_count": null,
      "outputs": []
    },
    {
      "cell_type": "code",
      "metadata": {
        "id": "TsC9Fr6X3FG1"
      },
      "source": [
        "ios_df = ios_df.drop(ios_df[ios_df.Word_Counts < min_word_counts].index)\n",
        "ios_df.index = list(range(0, ios_df.index.size))"
      ],
      "execution_count": null,
      "outputs": []
    },
    {
      "cell_type": "markdown",
      "metadata": {
        "id": "wZ_RId1OoKHJ"
      },
      "source": [
        "## explore the data after cleaning"
      ]
    },
    {
      "cell_type": "code",
      "metadata": {
        "colab": {
          "base_uri": "https://localhost:8080/",
          "height": 54
        },
        "id": "2D5N6WrV1kmI",
        "outputId": "db99bb45-2168-446b-cbde-31f2bb69a331"
      },
      "source": [
        "# explore the data after cleaning\n",
        "ios_df['Description_Clean'].sample(1).values[0]"
      ],
      "execution_count": null,
      "outputs": [
        {
          "data": {
            "application/vnd.google.colaboratory.intrinsic+json": {
              "type": "string"
            },
            "text/plain": [
              "'welcome connected find latest information local independent big brand wide range business domestic corporate lot offer business improvement district bid team promote town'"
            ]
          },
          "execution_count": 36,
          "metadata": {},
          "output_type": "execute_result"
        }
      ]
    },
    {
      "cell_type": "code",
      "metadata": {
        "colab": {
          "base_uri": "https://localhost:8080/"
        },
        "id": "tryl0BZH4QNz",
        "outputId": "1ff7ff29-42d6-43da-efe1-0690bf3e1672"
      },
      "source": [
        "# total ios application after cleaning\n",
        "ios_df.index.size # previous 724751"
      ],
      "execution_count": null,
      "outputs": [
        {
          "data": {
            "text/plain": [
              "707201"
            ]
          },
          "execution_count": 37,
          "metadata": {},
          "output_type": "execute_result"
        }
      ]
    },
    {
      "cell_type": "markdown",
      "metadata": {
        "id": "Ie208sp9Ajlp"
      },
      "source": [
        "# Find Similarity words "
      ]
    },
    {
      "cell_type": "code",
      "metadata": {
        "id": "h5fILQRh8Qge"
      },
      "source": [
        "from gensim.test.utils import common_texts, get_tmpfile\n",
        "from gensim.models import Word2Vec\n",
        "from gensim.models.callbacks import CallbackAny2Vec\n",
        "\n",
        "class callback(CallbackAny2Vec):\n",
        "    '''Callback to print loss after each epoch.'''\n",
        "\n",
        "    def __init__(self):\n",
        "        self.epoch = 0\n",
        "\n",
        "    def on_epoch_end(self, model):\n",
        "        loss = model.get_latest_training_loss()\n",
        "        print('Loss after epoch {}: {}'.format(self.epoch, loss))\n",
        "        self.epoch += 1"
      ],
      "execution_count": null,
      "outputs": []
    },
    {
      "cell_type": "code",
      "metadata": {
        "id": "WmzSIx2F-1bA"
      },
      "source": [
        "# create list of list\n",
        "sent = ios_df['Description_Token'].tolist()"
      ],
      "execution_count": null,
      "outputs": []
    },
    {
      "cell_type": "markdown",
      "metadata": {
        "id": "f6Hex-OUogk4"
      },
      "source": [
        "## word2vec model "
      ]
    },
    {
      "cell_type": "code",
      "metadata": {
        "id": "j4DyNZ5YBjmp"
      },
      "source": [
        "# run from out source becuase colab GPU was slowly\n",
        "# model = Word2Vec(sent, min_count=1, \n",
        "#                   iter=10,\n",
        "#                   size= 100, \n",
        "#                   workers=8, \n",
        "#                   window=10, \n",
        "#                   sg = 1, \n",
        "#                   compute_loss=True, \n",
        "#                   callbacks=[callback()])\n",
        "# model.save(\"vector_model.model\")"
      ],
      "execution_count": null,
      "outputs": []
    },
    {
      "cell_type": "markdown",
      "metadata": {
        "id": "NSIdJbxItx7i"
      },
      "source": [
        "## load model from drive "
      ]
    },
    {
      "cell_type": "code",
      "metadata": {
        "colab": {
          "base_uri": "https://localhost:8080/"
        },
        "id": "h27Jftd6tEFb",
        "outputId": "b277f470-4de6-473d-cbd5-66c29975dfbf"
      },
      "source": [
        "!gdown --id 1dJ4V3lKDoFo4F9ModdR1ctHF3EiAk_Y6\n",
        "!gdown --id 1MvsIItfGIqi8YP7EASn4RXbN-oAgcNr-\n",
        "!gdown --id 1F23DF5qKpUfgGvg_UEwxgrrKi24N6Rmd"
      ],
      "execution_count": null,
      "outputs": [
        {
          "name": "stdout",
          "output_type": "stream",
          "text": [
            "Downloading...\n",
            "From: https://drive.google.com/uc?id=1dJ4V3lKDoFo4F9ModdR1ctHF3EiAk_Y6\n",
            "To: /content/vector_model.model\n",
            "100% 9.10M/9.10M [00:00<00:00, 80.2MB/s]\n",
            "Downloading...\n",
            "From: https://drive.google.com/uc?id=1MvsIItfGIqi8YP7EASn4RXbN-oAgcNr-\n",
            "To: /content/vector_model.model.trainables.syn1neg.npy\n",
            "100% 52.6M/52.6M [00:00<00:00, 126MB/s] \n",
            "Downloading...\n",
            "From: https://drive.google.com/uc?id=1F23DF5qKpUfgGvg_UEwxgrrKi24N6Rmd\n",
            "To: /content/vector_model.model.wv.vectors.npy\n",
            "100% 52.6M/52.6M [00:00<00:00, 167MB/s]\n"
          ]
        }
      ]
    },
    {
      "cell_type": "code",
      "metadata": {
        "id": "asPSY_W2tbLZ"
      },
      "source": [
        "model = Word2Vec.load(\"vector_model.model\")"
      ],
      "execution_count": null,
      "outputs": []
    },
    {
      "cell_type": "code",
      "metadata": {
        "colab": {
          "base_uri": "https://localhost:8080/"
        },
        "id": "dwtq1xlNJ0p8",
        "outputId": "40fcc753-ddf6-4327-bc36-7471d36ca027"
      },
      "source": [
        "# Number of vocabulary in dict\n",
        "len(model.wv.vocab)"
      ],
      "execution_count": null,
      "outputs": [
        {
          "data": {
            "text/plain": [
              "131482"
            ]
          },
          "execution_count": 43,
          "metadata": {},
          "output_type": "execute_result"
        }
      ]
    },
    {
      "cell_type": "markdown",
      "metadata": {
        "id": "pPnj1mTDorEY"
      },
      "source": [
        "# Searching module \n",
        "\n"
      ]
    },
    {
      "cell_type": "code",
      "metadata": {
        "id": "sneqs06_VR1n"
      },
      "source": [
        "def search_in_df(text, keywords): # O(n_keyword * n_text)\n",
        "  check_list = []\n",
        "  for keyword_list in keywords:\n",
        "    temp_list = [word for word in text if word in keyword_list]\n",
        "    check_list.append(temp_list) if len(temp_list) > 0 else None\n",
        "  return True if len(check_list) == len(keywords) else False"
      ],
      "execution_count": null,
      "outputs": []
    },
    {
      "cell_type": "markdown",
      "metadata": {
        "id": "A4QQZFOuNyFV"
      },
      "source": [
        "## search with keywords of descriptions."
      ]
    },
    {
      "cell_type": "code",
      "metadata": {
        "id": "pztwmok7N8us"
      },
      "source": [
        "def search_with_keywords(search_keywords, no_similarity, model):\n",
        "  token_search = nltk.word_tokenize(search_keywords) # tokenize keywords\n",
        "  keywords = [[word[0] for word in model.wv.most_similar(keyword)[:no_similarity]] for keyword in token_search]\n",
        "  for i in range(len(keywords)): keywords[i].append(token_search[i])\n",
        "  return ios_df[ios_df.Description_Token.apply(search_in_df, keywords = keywords)]"
      ],
      "execution_count": null,
      "outputs": []
    },
    {
      "cell_type": "code",
      "metadata": {
        "id": "SRM-LJfOQ5FL"
      },
      "source": [
        "%%time\n",
        "no_similarity = 3\n",
        "\n",
        "keywords = \"board game score\"\n",
        "\n",
        "ios_df_keywords_result = search_with_keywords(keywords, no_similarity, model)\n",
        "print(ios_df_keywords_result.index.size)"
      ],
      "execution_count": null,
      "outputs": []
    },
    {
      "cell_type": "code",
      "metadata": {
        "id": "jH9Uq_T4zHQ5"
      },
      "source": [
        "## search key of descriptions\n",
        "all_vocab = model.wv.vocab.keys()"
      ],
      "execution_count": null,
      "outputs": []
    },
    {
      "cell_type": "code",
      "metadata": {
        "id": "_Nn7jzFOzgv2"
      },
      "source": [
        "search_key = \"multiple\"\n",
        "\n",
        "key_result = [key for key in all_vocab if search_key in key]\n",
        "key_result"
      ],
      "execution_count": null,
      "outputs": []
    },
    {
      "cell_type": "markdown",
      "metadata": {
        "id": "T6JXOkzI1leb"
      },
      "source": [
        "## search with applications name (title)"
      ]
    },
    {
      "cell_type": "code",
      "metadata": {
        "id": "CTT9bW5I1k-F"
      },
      "source": [
        "%%time\n",
        "\n",
        "def search_app_name(app_name):\n",
        "  return ios_df[ios_df.Title.apply(lambda title: app_name in title)]\n",
        "\n",
        "app_name = \"note\"\n",
        "\n",
        "ios_df_app_name_result = search_app_name(app_name)\n",
        "\n",
        "print(ios_df_app_name_result.index.size)"
      ],
      "execution_count": null,
      "outputs": []
    },
    {
      "cell_type": "markdown",
      "metadata": {
        "id": "aOoCDOkJ27zK"
      },
      "source": [
        "## search with developer name"
      ]
    },
    {
      "cell_type": "code",
      "metadata": {
        "id": "Mduejk6q27bQ"
      },
      "source": [
        "%%time\n",
        "\n",
        "def search_dev_name(dev_name):\n",
        "  return ios_df[ios_df.Developer_Name.apply(lambda name: dev_name in name)]\n",
        "\n",
        "dev_name = \"adam\"\n",
        "\n",
        "ios_df_dev_name_result = search_dev_name(dev_name)\n",
        "\n",
        "print(ios_df_dev_name_result.index.size)"
      ],
      "execution_count": null,
      "outputs": []
    },
    {
      "cell_type": "markdown",
      "metadata": {
        "id": "acGodHJn5C7M"
      },
      "source": [
        "## search with categories (genres)\n",
        "\n"
      ]
    },
    {
      "cell_type": "code",
      "metadata": {
        "id": "_WitU_fS8fRV"
      },
      "source": [
        "import ast\n",
        "\n",
        "ios_df.All_Genres = ios_df.All_Genres.apply(lambda s: list(ast.literal_eval(s)))"
      ],
      "execution_count": null,
      "outputs": []
    },
    {
      "cell_type": "code",
      "metadata": {
        "id": "7FmCjhinBmRQ"
      },
      "source": [
        "# show all category before search\n",
        "all_category = set(ios_df.All_Genres.explode().values)\n",
        "print(all_category)"
      ],
      "execution_count": null,
      "outputs": []
    },
    {
      "cell_type": "code",
      "metadata": {
        "id": "ihBwsuUmCud8"
      },
      "source": [
        "%%time\n",
        "\n",
        "def search_category(category_name_list):\n",
        "\n",
        "  return ios_df[ios_df.All_Genres.apply(lambda genre: all(item in genre for item in category_name_list))]\n",
        "\n",
        "category_name_list = [\"Games\", \"Travel\", \"Action\", \"Puzzle\"]\n",
        "\n",
        "ios_df_category_result = search_category(category_name_list)\n",
        "\n",
        "print(ios_df_category_result.All_Genres)"
      ],
      "execution_count": null,
      "outputs": []
    },
    {
      "cell_type": "markdown",
      "metadata": {
        "id": "Rzfd5foDpJdo"
      },
      "source": [
        "# Visualization "
      ]
    },
    {
      "cell_type": "code",
      "metadata": {
        "id": "cYTOcna5cF8x"
      },
      "source": [
        "# selection one search option to visualization\n",
        "ios_df_search_result = search_category([\"Games\"])\n",
        "ios_df_search_result.index.size"
      ],
      "execution_count": null,
      "outputs": []
    },
    {
      "cell_type": "markdown",
      "metadata": {
        "id": "ij14NxUYHQRC"
      },
      "source": [
        "## show application detail"
      ]
    },
    {
      "cell_type": "code",
      "metadata": {
        "id": "wS6uLHguGp2q"
      },
      "source": [
        "df_show = ios_df_search_result[['Title', 'IOS_Store_Url', 'Total_Average_Rating']]\n",
        "df_show"
      ],
      "execution_count": null,
      "outputs": []
    },
    {
      "cell_type": "code",
      "metadata": {
        "id": "Sqfr4HkfKTJ1"
      },
      "source": [
        "def show_result_detail(df):\n",
        "    df = df.rename(columns={\"Title\": \"Application name\", \"Developer_Name\": \"Developer name\", \"IOS_Store_Url\": \"Download URL\", \"Total_Average_Rating\": \"Rating\"})\n",
        "    df['Rating'] = df['Rating'].apply(lambda x: 'unrate' if x < 0 else x)\n",
        "    display(df[['Application name', \"Developer name\", 'Download URL', 'Rating', 'Amount']])"
      ],
      "execution_count": null,
      "outputs": []
    },
    {
      "cell_type": "markdown",
      "metadata": {
        "id": "-V2eyi5NIvey"
      },
      "source": [
        "## show developer name with wordcloud"
      ]
    },
    {
      "cell_type": "code",
      "metadata": {
        "id": "dUE28V9BIu6S"
      },
      "source": [
        "from wordcloud import WordCloud\n",
        "\n",
        "def show_dev_name_wordcloud(df):\n",
        "  dev_name_dict = df.Developer_Name.value_counts()\n",
        "  wc1 = WordCloud(max_words=100, stopwords=stopwords)\n",
        "  wc1.generate_from_frequencies(dev_name_dict)\n",
        "  plt.figure(dpi=150)\n",
        "  plt.imshow(wc1, interpolation='bilinear')\n",
        "  plt.axis('off')\n",
        "\n",
        "show_dev_name_wordcloud(ios_df_search_result)"
      ],
      "execution_count": null,
      "outputs": []
    },
    {
      "cell_type": "markdown",
      "metadata": {
        "id": "OWrD0_LFQsjk"
      },
      "source": [
        "## application of specific dev name "
      ]
    },
    {
      "cell_type": "code",
      "metadata": {
        "id": "VOd6-LwscIXj"
      },
      "source": [
        "dev_name_dict = ios_df_search_result.Developer_Name.value_counts()\n",
        "dev_name_dict"
      ],
      "execution_count": null,
      "outputs": []
    },
    {
      "cell_type": "code",
      "metadata": {
        "id": "_vU9cGBPhyJ8"
      },
      "source": [
        "dev_list = list(set(ios_df.Developer_Name.values))"
      ],
      "execution_count": null,
      "outputs": []
    },
    {
      "cell_type": "code",
      "metadata": {
        "id": "Lw-a7UA0Q0Uk"
      },
      "source": [
        "search_dev_name('Pisit Rojananukulpong')[['Title', 'Description', 'Total_Average_Rating']]"
      ],
      "execution_count": null,
      "outputs": []
    },
    {
      "cell_type": "markdown",
      "metadata": {
        "id": "9BCKQzQSMFEo"
      },
      "source": [
        "## top N rate application"
      ]
    },
    {
      "cell_type": "code",
      "metadata": {
        "id": "Mh_NUY9dMES2"
      },
      "source": [
        "N_rate = 5\n",
        "\n",
        "ios_df_search_result['Amount'] = (ios_df_search_result.Total_Number_of_Ratings / ios_df_search_result.Total_Average_Rating)\n",
        "ios_df_search_result['Amount']"
      ],
      "execution_count": null,
      "outputs": []
    },
    {
      "cell_type": "code",
      "metadata": {
        "id": "Zu1Iq4M4N0J_"
      },
      "source": [
        "# sort by Total_Average_Rating first or Amount first.\n",
        "ios_df_search_result.sort_values(['Total_Average_Rating', 'Amount'], ascending = False)[['Amount', 'Total_Average_Rating']][:N_rate]"
      ],
      "execution_count": null,
      "outputs": []
    },
    {
      "cell_type": "code",
      "metadata": {
        "id": "MAL4iVJa9gOX"
      },
      "source": [
        "ios_df_search_result.sort_values(['Amount', 'Total_Average_Rating'], ascending = False)[['Amount', 'Total_Average_Rating']][:N_rate]"
      ],
      "execution_count": null,
      "outputs": []
    },
    {
      "cell_type": "code",
      "metadata": {
        "id": "k2uxOJnSMRR7"
      },
      "source": [
        "import math\n",
        "\n",
        "def show_sorted_result(ios_df, N_rate, by = 'Rate'):\n",
        "  df = ios_df.copy()\n",
        "  df['Amount'] = (df.Total_Number_of_Ratings / df.Total_Average_Rating)\n",
        "  df['Amount'] = df['Amount'].apply(math.floor)\n",
        "  if by == 'Rate':\n",
        "    show_result_detail(df.sort_values(['Total_Average_Rating', 'Amount'], ascending = False)[['Title', 'Developer_Name','IOS_Store_Url', 'Amount', 'Total_Average_Rating']][:N_rate])\n",
        "  else :\n",
        "    show_result_detail(df.sort_values(['Amount', 'Total_Average_Rating'], ascending = False)[['Title', 'Developer_Name', 'IOS_Store_Url', 'Amount', 'Total_Average_Rating']][:N_rate])\n"
      ],
      "execution_count": null,
      "outputs": []
    },
    {
      "cell_type": "markdown",
      "metadata": {
        "id": "HflGNyw9xskW"
      },
      "source": [
        "## see more detail on specific application"
      ]
    },
    {
      "cell_type": "code",
      "metadata": {
        "id": "YDSig1mBOojf"
      },
      "source": [
        "# see more detail \n",
        "ios_df_search_result.loc[641499]"
      ],
      "execution_count": null,
      "outputs": []
    },
    {
      "cell_type": "markdown",
      "metadata": {
        "id": "1kcYDfgRpi2n"
      },
      "source": [
        "# Interface"
      ]
    },
    {
      "cell_type": "code",
      "metadata": {
        "id": "KO23mFnKpm7g"
      },
      "source": [
        "import ipywidgets as widgets\n",
        "from IPython.display import display, Markdown, clear_output"
      ],
      "execution_count": null,
      "outputs": []
    },
    {
      "cell_type": "markdown",
      "metadata": {
        "id": "HhTlmpiWFFBF"
      },
      "source": [
        "## widgets keywords"
      ]
    },
    {
      "cell_type": "code",
      "metadata": {
        "id": "V8xjrDWeE_VE"
      },
      "source": [
        "def widgets_search_keywords():\n",
        "  type_keywords = widgets.Text(\n",
        "                  placeholder='Type your keywords separated with space',\n",
        "                  disabled=False)\n",
        "  \n",
        "  label_similar = widgets.Label(value = \"Select number of similar word\")\n",
        "  no_similarity_keywords = widgets.IntSlider(value=2, min=1, max=10, step=1, disabled=False, continuous_update=False, orientation='horizontal', readout=True, readout_format='d')\n",
        "  \n",
        "  N_rate = widgets.IntSlider(value=20, min=1, max=100, step=1, description='Top N show',disabled=False, continuous_update=False, orientation='horizontal', readout=True, readout_format='d')\n",
        "  type_sort = widgets.Dropdown(options=['Rate', 'Amount', '*DO NOT SHOW'], description='Sort type', disabled=False)\n",
        "\n",
        "  show_wordcloud = widgets.Dropdown(options=['SHOW', 'DO NOT SHOW'], description='Display', disabled=False)\n",
        "  \n",
        "  search_by_keywords = widgets.Button(description=\"Search\")\n",
        "  search_by_keywords_out = widgets.Output()\n",
        "\n",
        "  def on_search_by_keywords_clicked(b):\n",
        "    with search_by_keywords_out:\n",
        "      clear_output()\n",
        "      df_show = search_with_keywords((type_keywords.value).\n",
        "      lower(), no_similarity_keywords.value, model)\n",
        "      if df_show.index.size == 0:\n",
        "        print(\"Application not found!\")\n",
        "        return 0\n",
        "      else: \n",
        "        print(\"\\nTotal search: \", df_show.index.size, \" applications\")\n",
        " \n",
        "      if type_sort.value != \"*DO NOT SHOW\":\n",
        "        print(\"\\nTop \", N_rate.value, \" rating applications\")\n",
        "        show_sorted_result(df_show, N_rate.value, by = type_sort.value)\n",
        "\n",
        "      if show_wordcloud.value == 'SHOW':\n",
        "        print(\"\\nWordcloud of developer name\")\n",
        "        show_dev_name_wordcloud(df_show)\n",
        "\n",
        "\n",
        "  search_by_keywords.on_click(on_search_by_keywords_clicked)\n",
        "\n",
        "  print(\">> Search with keywords <<\\n\")\n",
        "  display(widgets.HBox([type_keywords, search_by_keywords]))\n",
        "  display(widgets.VBox([label_similar, no_similarity_keywords]))\n",
        "  print(\"\\n****** Display Options ******\")\n",
        "  print(\"\\n- For display most rating application\\n\")\n",
        "  display(widgets.HBox([N_rate, type_sort]))\n",
        "  print(\"\\n- For display wordcloud of developer name\\n\")\n",
        "  display(widgets.HBox([show_wordcloud]))\n",
        "  print(\"\\n*********** Result ***********\")\n",
        "  display(widgets.VBox([search_by_keywords_out]))"
      ],
      "execution_count": null,
      "outputs": []
    },
    {
      "cell_type": "code",
      "metadata": {
        "id": "WTQ7t6G5Gnlo"
      },
      "source": [
        "widgets_search_keywords()"
      ],
      "execution_count": null,
      "outputs": []
    },
    {
      "cell_type": "markdown",
      "metadata": {
        "id": "pgb3GNtgc93b"
      },
      "source": [
        "## widgets applications name (title)"
      ]
    },
    {
      "cell_type": "code",
      "metadata": {
        "id": "2H5SbsLQdOk1"
      },
      "source": [
        "def widgets_search_title():\n",
        "  type_search = widgets.Text(\n",
        "                  placeholder='Type application name',\n",
        "                  disabled=False)\n",
        "  \n",
        "  \n",
        "  N_rate = widgets.IntSlider(value=20, min=1, max=100, step=1, description='Top N show',disabled=False, continuous_update=False, orientation='horizontal', readout=True, readout_format='d')\n",
        "  type_sort = widgets.Dropdown(options=['Rate', 'Amount', '*DO NOT SHOW'], description='Sort type', disabled=False)\n",
        "\n",
        "  show_wordcloud = widgets.Dropdown(options=['SHOW', 'DO NOT SHOW'], description='Display', disabled=False)\n",
        "  \n",
        "  search_but = widgets.Button(description=\"Search\")\n",
        "  search_out = widgets.Output()\n",
        "\n",
        "  def on_search_clicked(b):\n",
        "    with search_out:\n",
        "      clear_output()\n",
        "      df_show = search_app_name(type_search.value)\n",
        "      if df_show.index.size == 0:\n",
        "        print(\"Application not found!\")\n",
        "        return 0\n",
        "      else: \n",
        "        print(\"\\nTotal search: \", df_show.index.size, \" applications\")\n",
        " \n",
        "      if type_sort.value != \"*DO NOT SHOW\":\n",
        "        print(\"\\nTop \", N_rate.value, \" rating applications\")\n",
        "        show_sorted_result(df_show, N_rate.value, by = type_sort.value)\n",
        "\n",
        "      if show_wordcloud.value == 'SHOW':\n",
        "        print(\"\\nWordcloud of developer name\")\n",
        "        show_dev_name_wordcloud(df_show)\n",
        "\n",
        "\n",
        "  search_but.on_click(on_search_clicked)\n",
        "\n",
        "  print(\">> Search with application name <<\\n\")\n",
        "  display(widgets.HBox([type_search, search_but]))\n",
        "  print(\"\\n****** Display Options ******\")\n",
        "  print(\"\\n- For display most rating application\\n\")\n",
        "  display(widgets.HBox([N_rate, type_sort]))\n",
        "  print(\"\\n- For display wordcloud of developer name\\n\")\n",
        "  display(widgets.HBox([show_wordcloud]))\n",
        "  print(\"\\n*********** Result ***********\")\n",
        "  display(widgets.VBox([search_out]))"
      ],
      "execution_count": null,
      "outputs": []
    },
    {
      "cell_type": "code",
      "metadata": {
        "id": "B-mYfXs7eFxc"
      },
      "source": [
        "widgets_search_title()"
      ],
      "execution_count": null,
      "outputs": []
    },
    {
      "cell_type": "markdown",
      "metadata": {
        "id": "iTD_M2bUfw5g"
      },
      "source": [
        "## widgets developer name"
      ]
    },
    {
      "cell_type": "code",
      "metadata": {
        "id": "VI2VB5HAfuzm"
      },
      "source": [
        "def widgets_search_dev():\n",
        "  type_search = widgets.Combobox(\n",
        "                placeholder='Select developer name',\n",
        "                options=dev_list,\n",
        "                ensure_option=True,\n",
        "                disabled=False)\n",
        "  \n",
        "  N_rate = widgets.IntSlider(value=20, min=1, max=100, step=1, description='Top N show',disabled=False, continuous_update=False, orientation='horizontal', readout=True, readout_format='d')\n",
        "  type_sort = widgets.Dropdown(options=['Rate', 'Amount', '*DO NOT SHOW'], description='Sort type', disabled=False)\n",
        "  \n",
        "  search_but = widgets.Button(description=\"Search\")\n",
        "  search_out = widgets.Output()\n",
        "\n",
        "  def on_search_clicked(b):\n",
        "    with search_out:\n",
        "      clear_output()\n",
        "      df_show = search_dev_name(type_search.value)\n",
        "      if df_show.index.size == 0:\n",
        "        print(\"Application not found!\")\n",
        "        return 0\n",
        "      else: \n",
        "        print(\"\\nTotal search: \", df_show.index.size, \" applications\")\n",
        " \n",
        "      if type_sort.value != \"*DO NOT SHOW\":\n",
        "        print(\"\\nTop \", N_rate.value, \" rating applications\")\n",
        "        show_sorted_result(df_show, N_rate.value, by = type_sort.value)\n",
        "\n",
        "  search_but.on_click(on_search_clicked)\n",
        "\n",
        "  print(\">> Search with developer name <<\\n\")\n",
        "  display(widgets.HBox([type_search, search_but]))\n",
        "  print(\"\\n****** Display Options ******\")\n",
        "  print(\"\\n- For display most rating application\\n\")\n",
        "  display(widgets.HBox([N_rate, type_sort]))\n",
        "  print(\"\\n*********** Result ***********\")\n",
        "  display(widgets.VBox([search_out]))"
      ],
      "execution_count": null,
      "outputs": []
    },
    {
      "cell_type": "code",
      "metadata": {
        "id": "FCGtSqgEgmyP"
      },
      "source": [
        "widgets_search_dev()"
      ],
      "execution_count": null,
      "outputs": []
    },
    {
      "cell_type": "markdown",
      "metadata": {
        "id": "BkKMeU_4FAl5"
      },
      "source": [
        "## widgets category"
      ]
    },
    {
      "cell_type": "code",
      "metadata": {
        "id": "jHziCM3wzs7H"
      },
      "source": [
        "def widgets_search_categories():\n",
        "  label_categories = widgets.Label(value = \"Select categories\")\n",
        "  select_categories = widgets.SelectMultiple(\n",
        "                      options=list(sorted(all_category)),\n",
        "                      rows=10,\n",
        "                      description='',\n",
        "                      disabled=False)\n",
        "  \n",
        "  N_rate = widgets.IntSlider(value=20, min=1, max=100, step=1, description='Top N show',disabled=False, continuous_update=False, orientation='horizontal', readout=True, readout_format='d')\n",
        "  type_sort = widgets.Dropdown(options=['Rate', 'Amount', '*DO NOT SHOW'], description='Sort type', disabled=False)\n",
        "\n",
        "  show_wordcloud = widgets.Dropdown(options=['SHOW', 'DO NOT SHOW'], description='Display', disabled=False)\n",
        "  \n",
        "  search_by_categories = widgets.Button(description=\"Search\")\n",
        "  search_by_categories_out = widgets.Output()\n",
        "\n",
        "  def on_search_by_categories_clicked(b):\n",
        "    with search_by_categories_out:\n",
        "      clear_output()\n",
        "      df_show = search_category(list(select_categories.value))\n",
        "      if df_show.index.size == 0:\n",
        "        print(\"Application not found!\")\n",
        "        return 0\n",
        "      else: \n",
        "        print(\"\\nTotal search: \", df_show.index.size, \" applications\")\n",
        " \n",
        "      if type_sort.value != \"*DO NOT SHOW\":\n",
        "        print(\"\\nTop \", N_rate.value, \" rating applications\")\n",
        "        show_sorted_result(df_show, N_rate.value, by = type_sort.value)\n",
        "\n",
        "      if show_wordcloud.value == 'SHOW':\n",
        "        print(\"\\nWordcloud of developer name\")\n",
        "        show_dev_name_wordcloud(df_show)\n",
        "\n",
        "\n",
        "  search_by_categories.on_click(on_search_by_categories_clicked)\n",
        "\n",
        "  print(\">> Search with categories <<\\n\")\n",
        "  display(widgets.VBox([label_categories, select_categories, search_by_categories]))\n",
        "  print(\"\\n****** Display Options ******\")\n",
        "  print(\"\\n- For display most rating application\\n\")\n",
        "  display(widgets.HBox([N_rate, type_sort]))\n",
        "  print(\"\\n- For display wordcloud of developer name\\n\")\n",
        "  display(widgets.HBox([show_wordcloud]))\n",
        "  print(\"\\n*********** Result ***********\")\n",
        "  display(widgets.VBox([search_by_categories_out]))"
      ],
      "execution_count": null,
      "outputs": []
    },
    {
      "cell_type": "code",
      "metadata": {
        "id": "X3kZHend3ad6"
      },
      "source": [
        "widgets_search_categories()"
      ],
      "execution_count": null,
      "outputs": []
    },
    {
      "cell_type": "markdown",
      "metadata": {
        "id": "hN2d9NGfhYkL"
      },
      "source": [
        "## widgets more details"
      ]
    },
    {
      "cell_type": "code",
      "metadata": {
        "id": "zN5SigMKh6YE"
      },
      "source": [
        "detail_df = ios_df.copy()\n",
        "\n",
        "detail_df['id'] = detail_df.index\n",
        "detail_df['id'] = detail_df.id.astype('str')\n",
        "detail_df['id_name'] = detail_df.id + \"-\" + detail_df.Title\n",
        "\n",
        "detail_list = list(detail_df.id_name.values)"
      ],
      "execution_count": null,
      "outputs": []
    },
    {
      "cell_type": "code",
      "metadata": {
        "id": "rE44mVpub41q"
      },
      "source": [
        "def widgets_more_details():\n",
        "  type_search = widgets.Combobox(\n",
        "                placeholder='Select application name or id',\n",
        "                options=detail_list,\n",
        "                ensure_option=True,\n",
        "                disabled=False)\n",
        "  \n",
        "  search_but = widgets.Button(description=\"Show detail\")\n",
        "  search_out = widgets.Output()\n",
        "\n",
        "  def on_search_clicked(b):\n",
        "    with search_out:\n",
        "      clear_output()\n",
        "      search_value = int((type_search.value).split(\"-\")[0])\n",
        "      print(search_value)\n",
        "      df_show = ios_df.loc[search_value]\n",
        "      display(df_show)\n",
        "\n",
        "  search_but.on_click(on_search_clicked)\n",
        "\n",
        "  print(\">> More application details <<\\n\")\n",
        "  display(widgets.HBox([type_search, search_but]))\n",
        "  print(\"\\n*********** Result ***********\")\n",
        "  display(widgets.VBox([search_out]))"
      ],
      "execution_count": null,
      "outputs": []
    },
    {
      "cell_type": "code",
      "metadata": {
        "colab": {
          "background_save": true,
          "referenced_widgets": [
            "7bdff795a07d4d9aa27090651b921537",
            "eb3f86f43c6d457a9400f26ca695230d"
          ]
        },
        "id": "Ie1XVFtUn1N-",
        "outputId": "e6b2f749-e264-4918-d2d4-33232cedbd94"
      },
      "source": [
        "widgets_more_details()"
      ],
      "execution_count": null,
      "outputs": [
        {
          "name": "stdout",
          "output_type": "stream",
          "text": [
            ">> More application details <<\n",
            "\n"
          ]
        },
        {
          "data": {
            "application/vnd.jupyter.widget-view+json": {
              "model_id": "7bdff795a07d4d9aa27090651b921537",
              "version_major": 2,
              "version_minor": 0
            },
            "text/plain": [
              "HBox(children=(Combobox(value='', ensure_option=True, options=('0-abc - writing style cursive flashcards works…"
            ]
          },
          "metadata": {},
          "output_type": "display_data"
        },
        {
          "name": "stdout",
          "output_type": "stream",
          "text": [
            "\n",
            "*********** Result ***********\n"
          ]
        },
        {
          "data": {
            "application/vnd.jupyter.widget-view+json": {
              "model_id": "eb3f86f43c6d457a9400f26ca695230d",
              "version_major": 2,
              "version_minor": 0
            },
            "text/plain": [
              "VBox(children=(Output(),))"
            ]
          },
          "metadata": {},
          "output_type": "display_data"
        }
      ]
    },
    {
      "cell_type": "markdown",
      "metadata": {
        "id": "huNhEnXPhA5T"
      },
      "source": [
        "---"
      ]
    }
  ]
}